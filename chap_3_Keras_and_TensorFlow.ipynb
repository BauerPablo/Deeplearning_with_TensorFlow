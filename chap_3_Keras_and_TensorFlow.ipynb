{
 "cells": [
  {
   "cell_type": "markdown",
   "id": "59924e87",
   "metadata": {},
   "source": [
    "# 3. Introducción a Keras y TensorFlow\n",
    "### Que son TensorFlow + Keras?\n",
    "\n",
    "---"
   ]
  },
  {
   "cell_type": "code",
   "execution_count": null,
   "id": "77e9d3fa",
   "metadata": {},
   "outputs": [],
   "source": []
  }
 ],
 "metadata": {
  "kernelspec": {
   "display_name": "Python [conda env:dhdsblend2022] *",
   "language": "python",
   "name": "conda-env-dhdsblend2022-py"
  },
  "language_info": {
   "codemirror_mode": {
    "name": "ipython",
    "version": 3
   },
   "file_extension": ".py",
   "mimetype": "text/x-python",
   "name": "python",
   "nbconvert_exporter": "python",
   "pygments_lexer": "ipython3",
   "version": "3.8.15"
  }
 },
 "nbformat": 4,
 "nbformat_minor": 5
}
