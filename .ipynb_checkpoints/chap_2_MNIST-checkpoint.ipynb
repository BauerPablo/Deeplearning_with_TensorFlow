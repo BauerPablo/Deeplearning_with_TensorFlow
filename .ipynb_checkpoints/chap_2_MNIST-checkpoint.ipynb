{
 "cells": [
  {
   "cell_type": "markdown",
   "id": "51d7d8aa",
   "metadata": {},
   "source": [
    "# \"HOLA MUNDO\" DEL DEEP LEARNING\n",
    "### Con TensorFlow + Keras\n",
    "\n",
    "---"
   ]
  },
  {
   "cell_type": "markdown",
   "id": "6d0abc66",
   "metadata": {},
   "source": [
    "### 2.1  Cargando los datos de MNIST en Keras"
   ]
  },
  {
   "cell_type": "code",
   "execution_count": 17,
   "id": "09b62f70",
   "metadata": {},
   "outputs": [],
   "source": [
    "from tensorflow.keras.datasets import mnist"
   ]
  },
  {
   "cell_type": "code",
   "execution_count": 5,
   "id": "43d53a4a",
   "metadata": {},
   "outputs": [],
   "source": [
    "(train_images, train_labels), (test_images, test_labels) = mnist.load_data()"
   ]
  },
  {
   "cell_type": "code",
   "execution_count": 6,
   "id": "51e96ab6",
   "metadata": {},
   "outputs": [
    {
     "data": {
      "text/plain": [
       "(60000, 28, 28)"
      ]
     },
     "execution_count": 6,
     "metadata": {},
     "output_type": "execute_result"
    }
   ],
   "source": [
    "train_images.shape"
   ]
  },
  {
   "cell_type": "code",
   "execution_count": 7,
   "id": "fc5f9f9a",
   "metadata": {},
   "outputs": [
    {
     "data": {
      "text/plain": [
       "60000"
      ]
     },
     "execution_count": 7,
     "metadata": {},
     "output_type": "execute_result"
    }
   ],
   "source": [
    "len(train_labels)"
   ]
  },
  {
   "cell_type": "code",
   "execution_count": 8,
   "id": "3377cfbb",
   "metadata": {},
   "outputs": [
    {
     "data": {
      "text/plain": [
       "array([5, 0, 4, ..., 5, 6, 8], dtype=uint8)"
      ]
     },
     "execution_count": 8,
     "metadata": {},
     "output_type": "execute_result"
    }
   ],
   "source": [
    "train_labels"
   ]
  },
  {
   "cell_type": "code",
   "execution_count": 9,
   "id": "74752f1b",
   "metadata": {},
   "outputs": [
    {
     "data": {
      "text/plain": [
       "(10000, 28, 28)"
      ]
     },
     "execution_count": 9,
     "metadata": {},
     "output_type": "execute_result"
    }
   ],
   "source": [
    "test_images.shape"
   ]
  },
  {
   "cell_type": "code",
   "execution_count": 12,
   "id": "0f52d409",
   "metadata": {},
   "outputs": [
    {
     "data": {
      "text/plain": [
       "10000"
      ]
     },
     "execution_count": 12,
     "metadata": {},
     "output_type": "execute_result"
    }
   ],
   "source": [
    "len(test_images)"
   ]
  },
  {
   "cell_type": "code",
   "execution_count": 14,
   "id": "15ff35c1",
   "metadata": {},
   "outputs": [
    {
     "data": {
      "text/plain": [
       "array([7, 2, 1, ..., 4, 5, 6], dtype=uint8)"
      ]
     },
     "execution_count": 14,
     "metadata": {},
     "output_type": "execute_result"
    }
   ],
   "source": [
    "test_labels"
   ]
  },
  {
   "cell_type": "markdown",
   "id": "586fe79b",
   "metadata": {},
   "source": [
    "### 2.2 La arquitectura de la red"
   ]
  },
  {
   "cell_type": "code",
   "execution_count": 15,
   "id": "2bae01e4",
   "metadata": {},
   "outputs": [],
   "source": [
    "from tensorflow import keras\n",
    "from tensorflow.keras import layers"
   ]
  },
  {
   "cell_type": "markdown",
   "id": "3c9d382a",
   "metadata": {},
   "source": [
    "**Optimizador** mecanismo por donde el modelo se retroaliminetara y se actualizará, basado en el dataset de entrenamiento.\n",
    "**Función de perdidad (loss function)** Como se medirá el modelo asi mimsmo con el data set de entrenamiento.\n",
    "**Metricas** Como medir la exactitud del modelo. "
   ]
  },
  {
   "cell_type": "code",
   "execution_count": 16,
   "id": "d7404122",
   "metadata": {},
   "outputs": [],
   "source": [
    "model = keras.Sequential([layers.Dense(512, activation='relu'),layers.Dense(10,activation='softmax')])"
   ]
  },
  {
   "cell_type": "markdown",
   "id": "4b78bea8",
   "metadata": {},
   "source": [
    "### 2.3 Compilando el modelo"
   ]
  },
  {
   "cell_type": "code",
   "execution_count": 21,
   "id": "25fa2b1b",
   "metadata": {},
   "outputs": [],
   "source": [
    "model.compile(optimizer='rmsprop', loss='sparse_categorical_crossentropy', metrics=['accuracy'])"
   ]
  },
  {
   "cell_type": "markdown",
   "id": "faff699a",
   "metadata": {},
   "source": [
    "### 2.4 Preparando los datos de las imagenes"
   ]
  },
  {
   "cell_type": "code",
   "execution_count": 22,
   "id": "061cb776",
   "metadata": {},
   "outputs": [],
   "source": [
    "train_images = train_images.reshape((60000, 28 *28))\n",
    "train_images = train_images.astype('float32')/255\n",
    "\n",
    "test_images = test_images.reshape((10000, 28 * 28))\n",
    "test_images = test_images.astype('float32')/255"
   ]
  },
  {
   "cell_type": "markdown",
   "id": "84958119",
   "metadata": {},
   "source": [
    "### 2.5 Fiteando el modelo con Keras"
   ]
  },
  {
   "cell_type": "code",
   "execution_count": 25,
   "id": "0431808b",
   "metadata": {},
   "outputs": [
    {
     "name": "stdout",
     "output_type": "stream",
     "text": [
      "Epoch 1/5\n",
      "469/469 [==============================] - 4s 8ms/step - loss: 0.3824 - accuracy: 0.8928\n",
      "Epoch 2/5\n",
      "469/469 [==============================] - 4s 8ms/step - loss: 0.3706 - accuracy: 0.8949\n",
      "Epoch 3/5\n",
      "469/469 [==============================] - 3s 7ms/step - loss: 0.3604 - accuracy: 0.8975\n",
      "Epoch 4/5\n",
      "469/469 [==============================] - 3s 7ms/step - loss: 0.3523 - accuracy: 0.8992\n",
      "Epoch 5/5\n",
      "469/469 [==============================] - 4s 8ms/step - loss: 0.3448 - accuracy: 0.9007\n"
     ]
    },
    {
     "data": {
      "text/plain": [
       "<keras.callbacks.History at 0x23ec527fcd0>"
      ]
     },
     "execution_count": 25,
     "metadata": {},
     "output_type": "execute_result"
    }
   ],
   "source": [
    "model.fit(train_images, train_labels, epochs=5, batch_size=128)"
   ]
  },
  {
   "cell_type": "code",
   "execution_count": 26,
   "id": "c26a8b8a",
   "metadata": {},
   "outputs": [],
   "source": [
    "test_digits = test_images[0:10]"
   ]
  },
  {
   "cell_type": "code",
   "execution_count": 27,
   "id": "c58ec9f7",
   "metadata": {},
   "outputs": [
    {
     "name": "stdout",
     "output_type": "stream",
     "text": [
      "1/1 [==============================] - 0s 124ms/step\n"
     ]
    }
   ],
   "source": [
    "predictions = model.predict(test_digits)"
   ]
  },
  {
   "cell_type": "code",
   "execution_count": 28,
   "id": "e3189825",
   "metadata": {},
   "outputs": [
    {
     "data": {
      "text/plain": [
       "array([4.6956273e-05, 7.2311877e-08, 2.0081616e-05, 2.4688576e-04,\n",
       "       1.0981084e-06, 1.9876794e-05, 4.8684932e-09, 9.9815398e-01,\n",
       "       4.0309010e-06, 1.5068548e-03], dtype=float32)"
      ]
     },
     "execution_count": 28,
     "metadata": {},
     "output_type": "execute_result"
    }
   ],
   "source": [
    "predictions[0]"
   ]
  },
  {
   "cell_type": "code",
   "execution_count": 30,
   "id": "bb4df6d3",
   "metadata": {},
   "outputs": [
    {
     "data": {
      "text/plain": [
       "7"
      ]
     },
     "execution_count": 30,
     "metadata": {},
     "output_type": "execute_result"
    }
   ],
   "source": [
    "predictions[0].argmax()"
   ]
  },
  {
   "cell_type": "code",
   "execution_count": 31,
   "id": "1b76bb48",
   "metadata": {},
   "outputs": [
    {
     "data": {
      "text/plain": [
       "0.998154"
      ]
     },
     "execution_count": 31,
     "metadata": {},
     "output_type": "execute_result"
    }
   ],
   "source": [
    "predictions[0][7]"
   ]
  },
  {
   "cell_type": "code",
   "execution_count": 32,
   "id": "0aa7a138",
   "metadata": {},
   "outputs": [
    {
     "data": {
      "text/plain": [
       "7"
      ]
     },
     "execution_count": 32,
     "metadata": {},
     "output_type": "execute_result"
    }
   ],
   "source": [
    "test_labels[0]"
   ]
  },
  {
   "cell_type": "markdown",
   "id": "da7ee655",
   "metadata": {},
   "source": [
    "### 2.7 Evaluando el modelo con nueva data"
   ]
  },
  {
   "cell_type": "code",
   "execution_count": 33,
   "id": "c2b4332b",
   "metadata": {},
   "outputs": [
    {
     "name": "stdout",
     "output_type": "stream",
     "text": [
      "313/313 [==============================] - 2s 3ms/step - loss: 0.3262 - accuracy: 0.9047\n"
     ]
    }
   ],
   "source": [
    "test_loss, test_acc = model.evaluate(test_images, test_labels)"
   ]
  },
  {
   "cell_type": "code",
   "execution_count": 34,
   "id": "87b06f44",
   "metadata": {},
   "outputs": [
    {
     "name": "stdout",
     "output_type": "stream",
     "text": [
      "test_acc: 0.904699981212616\n",
      "test_loss: 0.3262336254119873\n"
     ]
    }
   ],
   "source": [
    "print(f'test_acc: {test_acc}')\n",
    "print(f'test_loss: {test_loss}')"
   ]
  }
 ],
 "metadata": {
  "kernelspec": {
   "display_name": "Python [conda env:dhdsblend2022] *",
   "language": "python",
   "name": "conda-env-dhdsblend2022-py"
  },
  "language_info": {
   "codemirror_mode": {
    "name": "ipython",
    "version": 3
   },
   "file_extension": ".py",
   "mimetype": "text/x-python",
   "name": "python",
   "nbconvert_exporter": "python",
   "pygments_lexer": "ipython3",
   "version": "3.8.15"
  }
 },
 "nbformat": 4,
 "nbformat_minor": 5
}
